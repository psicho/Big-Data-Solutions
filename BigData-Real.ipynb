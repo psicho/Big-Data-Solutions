{
 "cells": [
  {
   "cell_type": "code",
   "execution_count": 27,
   "metadata": {
    "collapsed": true
   },
   "outputs": [],
   "source": [
    "import numpy as np\n",
    "import pandas as pd\n",
    "from datetime import datetime, date, time, timedelta\n",
    "\n",
    "df = pd.read_csv('bigdata.csv')\n",
    "# df = pd.read_csv('bigdata_time.csv')"
   ]
  },
  {
   "cell_type": "code",
   "execution_count": 28,
   "metadata": {},
   "outputs": [
    {
     "data": {
      "text/html": [
       "<div>\n",
       "<style>\n",
       "    .dataframe thead tr:only-child th {\n",
       "        text-align: right;\n",
       "    }\n",
       "\n",
       "    .dataframe thead th {\n",
       "        text-align: left;\n",
       "    }\n",
       "\n",
       "    .dataframe tbody tr th {\n",
       "        vertical-align: top;\n",
       "    }\n",
       "</style>\n",
       "<table border=\"1\" class=\"dataframe\">\n",
       "  <thead>\n",
       "    <tr style=\"text-align: right;\">\n",
       "      <th></th>\n",
       "      <th>Time</th>\n",
       "      <th>PRICE</th>\n",
       "      <th>SIZE</th>\n",
       "      <th>EXCHANGE</th>\n",
       "    </tr>\n",
       "  </thead>\n",
       "  <tbody>\n",
       "    <tr>\n",
       "      <th>0</th>\n",
       "      <td>10:00:00.009</td>\n",
       "      <td>135.14</td>\n",
       "      <td>100</td>\n",
       "      <td>V</td>\n",
       "    </tr>\n",
       "    <tr>\n",
       "      <th>1</th>\n",
       "      <td>10:00:00.010</td>\n",
       "      <td>135.14</td>\n",
       "      <td>100</td>\n",
       "      <td>V</td>\n",
       "    </tr>\n",
       "    <tr>\n",
       "      <th>2</th>\n",
       "      <td>10:00:00.013</td>\n",
       "      <td>135.13</td>\n",
       "      <td>100</td>\n",
       "      <td>D</td>\n",
       "    </tr>\n",
       "    <tr>\n",
       "      <th>3</th>\n",
       "      <td>10:00:00.015</td>\n",
       "      <td>135.13</td>\n",
       "      <td>300</td>\n",
       "      <td>D</td>\n",
       "    </tr>\n",
       "    <tr>\n",
       "      <th>4</th>\n",
       "      <td>10:00:00.016</td>\n",
       "      <td>135.13</td>\n",
       "      <td>150</td>\n",
       "      <td>D</td>\n",
       "    </tr>\n",
       "  </tbody>\n",
       "</table>\n",
       "</div>"
      ],
      "text/plain": [
       "           Time   PRICE  SIZE EXCHANGE\n",
       "0  10:00:00.009  135.14   100        V\n",
       "1  10:00:00.010  135.14   100        V\n",
       "2  10:00:00.013  135.13   100        D\n",
       "3  10:00:00.015  135.13   300        D\n",
       "4  10:00:00.016  135.13   150        D"
      ]
     },
     "execution_count": 28,
     "metadata": {},
     "output_type": "execute_result"
    }
   ],
   "source": [
    "df.head()"
   ]
  },
  {
   "cell_type": "code",
   "execution_count": 31,
   "metadata": {
    "scrolled": true
   },
   "outputs": [
    {
     "name": "stderr",
     "output_type": "stream",
     "text": [
      "C:\\Users\\ANDREY.FENOMEN\\Anaconda3\\lib\\site-packages\\ipykernel_launcher.py:4: SettingWithCopyWarning: \n",
      "A value is trying to be set on a copy of a slice from a DataFrame\n",
      "\n",
      "See the caveats in the documentation: http://pandas.pydata.org/pandas-docs/stable/indexing.html#indexing-view-versus-copy\n",
      "  after removing the cwd from sys.path.\n"
     ]
    }
   ],
   "source": [
    "# df['Time'] = datetime.strptime(df['Time'].iloc[1], '%H:%M:%S.%f')\n",
    "j = 0\n",
    "for i in df['Time']:\n",
    "    df['Time'][j] = datetime.strptime(i, '%H:%M:%S.%f')\n",
    "    j += 1\n",
    "\n",
    "# df['Time'] =df['Time'].strftime('%H:%M:%S.%f')\n",
    "# n = df['Time'].strftime('%H:%M:%S.%f')\n",
    "# n\n",
    "# df['Time']"
   ]
  },
  {
   "cell_type": "code",
   "execution_count": 32,
   "metadata": {
    "collapsed": true
   },
   "outputs": [],
   "source": [
    "df.to_csv('bigdata_time.csv')"
   ]
  },
  {
   "cell_type": "code",
   "execution_count": 33,
   "metadata": {},
   "outputs": [
    {
     "data": {
      "text/plain": [
       "(9993, 4)"
      ]
     },
     "execution_count": 33,
     "metadata": {},
     "output_type": "execute_result"
    }
   ],
   "source": [
    "df.shape"
   ]
  },
  {
   "cell_type": "code",
   "execution_count": 34,
   "metadata": {},
   "outputs": [
    {
     "data": {
      "text/plain": [
       "datetime.timedelta(0, 958, 597000)"
      ]
     },
     "execution_count": 34,
     "metadata": {},
     "output_type": "execute_result"
    }
   ],
   "source": [
    "timer = df['Time'][9992] - df['Time'][0]\n",
    "# t1.year, t1.month, t1.day, t1.hour, t1.minute, t1.second\n",
    "timer"
   ]
  },
  {
   "cell_type": "markdown",
   "metadata": {},
   "source": [
    "##### Количество сделок за промежуток времени 12:01:08.104 и 12:01:09.103"
   ]
  },
  {
   "cell_type": "markdown",
   "metadata": {},
   "source": [
    "Функция по расчёту максимального количества сделок"
   ]
  },
  {
   "cell_type": "code",
   "execution_count": 35,
   "metadata": {
    "collapsed": true
   },
   "outputs": [],
   "source": [
    "def maxtrans(start, stop):\n",
    "    return df[(df['Time'] >= start) & (df['Time'] <= stop)]['EXCHANGE'].count()"
   ]
  },
  {
   "cell_type": "code",
   "execution_count": 36,
   "metadata": {},
   "outputs": [
    {
     "data": {
      "text/plain": [
       "23"
      ]
     },
     "execution_count": 36,
     "metadata": {},
     "output_type": "execute_result"
    }
   ],
   "source": [
    "s = maxtrans(datetime(1900, 1, 1, 10, 1, 8, 104), datetime(1900, 1, 1, 10, 1, 9, 103))\n",
    "s"
   ]
  },
  {
   "cell_type": "markdown",
   "metadata": {},
   "source": [
    "##### Групировка количества сделок по биржам"
   ]
  },
  {
   "cell_type": "markdown",
   "metadata": {
    "collapsed": true
   },
   "source": [
    "Функция группировки сделок по биржам"
   ]
  },
  {
   "cell_type": "code",
   "execution_count": 38,
   "metadata": {
    "collapsed": true
   },
   "outputs": [],
   "source": [
    "def drouped(start, stop):\n",
    "    return df[(df['Time'] >= start) & (df['Time'] <= stop)].groupby(df['EXCHANGE'])['EXCHANGE'].count()\n",
    "\n",
    "# drouped = df[(df['Time'] >= datetime(1900, 1, 1, 10, 1, 8, 104)) & (df['Time'] <= datetime(1900, 1, 1, 10, 1, 9, 103))].groupby(df['EXCHANGE'])['EXCHANGE'].count()"
   ]
  },
  {
   "cell_type": "markdown",
   "metadata": {},
   "source": [
    "##### Предварительный \"грубый\" поиск максимального количества сделог (шаг 1 секунда)"
   ]
  },
  {
   "cell_type": "code",
   "execution_count": 39,
   "metadata": {},
   "outputs": [
    {
     "name": "stdout",
     "output_type": "stream",
     "text": [
      "10 1900-01-01 10:00:00.009000\n",
      "35 1900-01-01 10:00:06.009000\n",
      "56 1900-01-01 10:00:46.009000\n",
      "95 1900-01-01 10:01:03.009000\n",
      "479 1900-01-01 10:02:00.009000\n"
     ]
    }
   ],
   "source": [
    "delta = timedelta(seconds = 1)\n",
    "\n",
    "timestart = df['Time'][0]\n",
    "timeend = df['Time'][9992]\n",
    "transcount = 0\n",
    "\n",
    "bigtimestart = 0\n",
    "\n",
    "for i in range(timer.seconds):\n",
    "    timestep = timestart + delta\n",
    "    if timestep <= timeend:\n",
    "        n = maxtrans(timestart, timestep)\n",
    "        if n > transcount:\n",
    "            transcount = n\n",
    "            bigtimestart = timestart\n",
    "            print(transcount, bigtimestart)\n",
    "    else:\n",
    "        break\n",
    "    timestart = timestep\n",
    "                "
   ]
  },
  {
   "cell_type": "code",
   "execution_count": 40,
   "metadata": {
    "collapsed": true
   },
   "outputs": [],
   "source": [
    "def shaping(start, stop):\n",
    "    n = df[(df['Time'] >= start) & (df['Time'] <= stop)].shape[0]\n",
    "    return n"
   ]
  },
  {
   "cell_type": "markdown",
   "metadata": {},
   "source": [
    "##### Уточняющий расчет в районе промежутся с нужным выбросом большого количества сделок. (шаг 100 микросекунд)"
   ]
  },
  {
   "cell_type": "code",
   "execution_count": 42,
   "metadata": {
    "collapsed": true
   },
   "outputs": [],
   "source": [
    "def prog_micro(bigtimestart, delta, microdel):\n",
    "    delta = timedelta(seconds = delta)\n",
    "    transcount = 0\n",
    "    bigtime = 0\n",
    "    delta1 = timedelta(microseconds = microdel)\n",
    "#     print(delta1)\n",
    "    start1 = bigtimestart - delta\n",
    "#     print(start1)\n",
    "    stop1 = bigtimestart + delta * 2\n",
    "#     print(stop1)\n",
    "    timer1 = stop1 - start1\n",
    "#     print(timer1.seconds)\n",
    "    \n",
    "#     print(int(timer1/delta1))\n",
    "    \n",
    "    for i in range(int(timer1/delta1)):\n",
    "        time_interval = start1 + delta1 + delta\n",
    "#         print('time_interval',time_interval)\n",
    "        if time_interval <= stop1:\n",
    "            n = drouped(start1, time_interval).sum()\n",
    "            if n > transcount:\n",
    "                transcount = n\n",
    "                bigtime = start1 + delta1\n",
    "                bigend = time_interval\n",
    "#                 print(transcount, bigtime, bigend, bigend-bigtime)\n",
    "        else:\n",
    "            break\n",
    "        start1 = start1 + delta1\n",
    "    print(transcount, bigtime, bigend, bigend-bigtime)\n",
    "    return bigtime, bigend"
   ]
  },
  {
   "cell_type": "code",
   "execution_count": 43,
   "metadata": {},
   "outputs": [
    {
     "name": "stdout",
     "output_type": "stream",
     "text": [
      "516 1900-01-01 10:02:00.734000 1900-01-01 10:02:01.734000 0:00:01\n"
     ]
    },
    {
     "data": {
      "text/plain": [
       "(datetime.datetime(1900, 1, 1, 10, 2, 0, 734000),\n",
       " datetime.datetime(1900, 1, 1, 10, 2, 1, 734000))"
      ]
     },
     "execution_count": 43,
     "metadata": {},
     "output_type": "execute_result"
    }
   ],
   "source": [
    "prog_micro(bigtimestart, 1, 100)\n",
    "# %time"
   ]
  },
  {
   "cell_type": "markdown",
   "metadata": {},
   "source": [
    "##### Максимальное найденое число сделок за 1 секунду равняется 516 в промежутке 10:02:00.734000 10:02:01.734000"
   ]
  },
  {
   "cell_type": "markdown",
   "metadata": {},
   "source": [
    "максимальное количество сделок (в количестве 516) в течение одной секунды было между 10:02:00.734000 и 10:02:01.734000"
   ]
  },
  {
   "cell_type": "markdown",
   "metadata": {},
   "source": [
    "##### Выводим полученное количество сделок, сгруппированное по биржам:"
   ]
  },
  {
   "cell_type": "code",
   "execution_count": 47,
   "metadata": {},
   "outputs": [
    {
     "data": {
      "text/plain": [
       "EXCHANGE\n",
       "B      1\n",
       "D     47\n",
       "J      2\n",
       "K    133\n",
       "P     41\n",
       "Q    239\n",
       "X      9\n",
       "Y      1\n",
       "Z     43\n",
       "Name: EXCHANGE, dtype: int64"
      ]
     },
     "execution_count": 47,
     "metadata": {},
     "output_type": "execute_result"
    }
   ],
   "source": [
    "drouped(datetime(1900, 1, 1, 10, 2, 0, 734000), datetime(1900, 1, 1, 10, 2, 1, 734000))"
   ]
  },
  {
   "cell_type": "code",
   "execution_count": null,
   "metadata": {
    "collapsed": true
   },
   "outputs": [],
   "source": []
  }
 ],
 "metadata": {
  "kernelspec": {
   "display_name": "Python 3",
   "language": "python",
   "name": "python3"
  },
  "language_info": {
   "codemirror_mode": {
    "name": "ipython",
    "version": 3
   },
   "file_extension": ".py",
   "mimetype": "text/x-python",
   "name": "python",
   "nbconvert_exporter": "python",
   "pygments_lexer": "ipython3",
   "version": "3.6.1"
  }
 },
 "nbformat": 4,
 "nbformat_minor": 2
}
